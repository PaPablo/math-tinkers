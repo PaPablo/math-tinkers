{
 "cells": [
  {
   "cell_type": "markdown",
   "metadata": {},
   "source": [
    "# Merten's Conjecture\n",
    "\n",
    "From wikipedia:\n",
    "\n",
    "> In mathematics, the Mertens conjecture is the statement that the Mertens function $M(n)$ is bounded by $\\sqrt {n}$ Although now disproven, it has been shown to imply the Riemann hypothesis. It was conjectured by Thomas Joannes Stieltjes, in an 1885 letter to Charles Hermite (reprinted in Stieltjes (1905)), and again in print by Franz Mertens (1897), and disproved by Andrew Odlyzko and Herman te Riele (1985). It is a striking example of a mathematical conjecture proven false despite a large amount of computational evidence in its favor.\n",
    "\n",
    "In number theory, we define the Mertens function as\n",
    "\n",
    "$M(n)=\\sum _{{1\\leq k\\leq n}}\\mu (k)$\n",
    "\n",
    "where μ(k) is the [Möbius function](https://en.wikipedia.org/wiki/M%C3%B6bius_function); the Mertens conjecture is that for all n > 1,\n",
    "\n",
    "$|M(n)|<{\\sqrt  {n}}$\n"
   ]
  },
  {
   "cell_type": "code",
   "execution_count": 1,
   "metadata": {},
   "outputs": [],
   "source": [
    "%matplotlib inline\n",
    "\n",
    "import numpy as np\n",
    "import matplotlib.pyplot as plt"
   ]
  },
  {
   "cell_type": "code",
   "execution_count": 13,
   "metadata": {},
   "outputs": [],
   "source": [
    "import itertools\n",
    "    \n",
    "def sieve(s):\n",
    "    \"\"\"Sieve of Eratosthenes\"\"\"\n",
    "    n = next(s)\n",
    "    yield n\n",
    "    yield from sieve(i for i in s if i%n!=0)\n",
    "\n",
    "def prime_factors(n):\n",
    "    \"\"\"Returns the list of prime factors of n\"\"\"\n",
    "    if n == 1:\n",
    "        return []\n",
    "    \n",
    "    factors = []\n",
    "    while n != 1:\n",
    "        for p in sieve(itertools.count(start=2)):\n",
    "            if n%p==0:\n",
    "                factors.append(p)\n",
    "                n/=p\n",
    "                break\n",
    "    return factors\n",
    "\n",
    "def mu(n):\n",
    "    \"\"\"Returns -1, 0, or 1 depending on the number of prime\n",
    "    factors of n. According to the following rule:\n",
    "    \n",
    "    - 1 if n has an even number of prime factors\n",
    "    - -1 if n has an odd number of prime factors\n",
    "    - 0 if n has any repeating factors\n",
    "    \"\"\"\n",
    "    factors = prime_factors(n)\n",
    "    l = len(factors)\n",
    "    \n",
    "    # If it has repeating factors\n",
    "    if l != len(set(factors)):\n",
    "        return 0\n",
    "\n",
    "    if l%2 == 0:\n",
    "        return 1 # Even number of factors\n",
    "    else:\n",
    "        return -1 # Odd number of factors\n",
    "    \n",
    "def M(n):\n",
    "    \"\"\"Returns the cumulative sum of applying\n",
    "    mu from 1 to n\n",
    "    \"\"\"\n",
    "    if n==1:\n",
    "        return mu(n)\n",
    "    else:\n",
    "        return mu(n) + M(n-1)"
   ]
  },
  {
   "cell_type": "code",
   "execution_count": 14,
   "metadata": {},
   "outputs": [],
   "source": [
    "n = 500\n",
    "\n",
    "\n",
    "ns = np.arange(1, n+1)\n",
    "\n",
    "rts = np.array([n**(1/2) for n in ns])\n",
    "\n",
    "\n",
    "Ms = np.array([M(n) for n in ns])"
   ]
  },
  {
   "cell_type": "code",
   "execution_count": 18,
   "metadata": {},
   "outputs": [
    {
     "data": {
      "image/png": "[encoded data removed]",
      "text/plain": [
       "<Figure size 432x288 with 1 Axes>"
      ]
     },
     "metadata": {
      "needs_background": "light"
     },
     "output_type": "display_data"
    }
   ],
   "source": [
    "fig = plt.figure()\n",
    "ax = fig.add_subplot(1,1,1)\n",
    "ax.plot(ns, Ms)\n",
    "ax.plot(ns, rts, color='tab:red')\n",
    "ax.plot(ns, rts*-1, color='tab:red')\n",
    "ax.grid(True)\n",
    "\n",
    "plt.show()"
   ]
  }
 ],
 "metadata": {
  "kernelspec": {
   "display_name": "tinker",
   "language": "python",
   "name": "tinker"
  },
  "language_info": {
   "codemirror_mode": {
    "name": "ipython",
    "version": 3
   },
   "file_extension": ".py",
   "mimetype": "text/x-python",
   "name": "python",
   "nbconvert_exporter": "python",
   "pygments_lexer": "ipython3",
   "version": "3.8.3"
  }
 },
 "nbformat": 4,
 "nbformat_minor": 4
}
